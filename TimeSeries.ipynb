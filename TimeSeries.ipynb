{
  "metadata": {
    "kernelspec": {
      "name": "python",
      "display_name": "Python (Pyodide)",
      "language": "python"
    },
    "language_info": {
      "codemirror_mode": {
        "name": "python",
        "version": 3
      },
      "file_extension": ".py",
      "mimetype": "text/x-python",
      "name": "python",
      "nbconvert_exporter": "python",
      "pygments_lexer": "ipython3",
      "version": "3.8"
    }
  },
  "nbformat_minor": 5,
  "nbformat": 4,
  "cells": [
    {
      "id": "d0753ccc-574b-436e-95ad-ca271d18bb86",
      "cell_type": "code",
      "source": "import pandas as pd\nimport numpy as np\n\nimport matplotlib.pyplot as plt\nfrom keras.models import Sequential\nfrom keras.layers import LSTM, Dense\nfrom sklearn.metrics import mean_absolute_error, mean_squared_error\nfrom sklearn.preprocessing import MinMaxScaler\n",
      "metadata": {
        "trusted": true
      },
      "outputs": [
        {
          "ename": "<class 'ModuleNotFoundError'>",
          "evalue": "No module named 'keras'",
          "traceback": [
            "\u001b[0;31m---------------------------------------------------------------------------\u001b[0m",
            "\u001b[0;31mModuleNotFoundError\u001b[0m                       Traceback (most recent call last)",
            "Cell \u001b[0;32mIn[5], line 5\u001b[0m\n\u001b[1;32m      3\u001b[0m \u001b[38;5;28;01mimport\u001b[39;00m \u001b[38;5;21;01mmatplotlib\u001b[39;00m\u001b[38;5;21;01m.\u001b[39;00m\u001b[38;5;21;01mpyplot\u001b[39;00m \u001b[38;5;28;01mas\u001b[39;00m \u001b[38;5;21;01mplt\u001b[39;00m\n\u001b[1;32m      4\u001b[0m \u001b[38;5;28;01mimport\u001b[39;00m \u001b[38;5;21;01mmatplotlib\u001b[39;00m\u001b[38;5;21;01m.\u001b[39;00m\u001b[38;5;21;01mpyplot\u001b[39;00m \u001b[38;5;28;01mas\u001b[39;00m \u001b[38;5;21;01mplt\u001b[39;00m\n\u001b[0;32m----> 5\u001b[0m \u001b[38;5;28;01mfrom\u001b[39;00m \u001b[38;5;21;01mkeras\u001b[39;00m\u001b[38;5;21;01m.\u001b[39;00m\u001b[38;5;21;01mmodels\u001b[39;00m \u001b[38;5;28;01mimport\u001b[39;00m Sequential\n\u001b[1;32m      6\u001b[0m \u001b[38;5;28;01mfrom\u001b[39;00m \u001b[38;5;21;01mkeras\u001b[39;00m\u001b[38;5;21;01m.\u001b[39;00m\u001b[38;5;21;01mlayers\u001b[39;00m \u001b[38;5;28;01mimport\u001b[39;00m LSTM, Dense\n\u001b[1;32m      7\u001b[0m \u001b[38;5;28;01mfrom\u001b[39;00m \u001b[38;5;21;01msklearn\u001b[39;00m\u001b[38;5;21;01m.\u001b[39;00m\u001b[38;5;21;01mmetrics\u001b[39;00m \u001b[38;5;28;01mimport\u001b[39;00m mean_absolute_error, mean_squared_error\n",
            "\u001b[0;31mModuleNotFoundError\u001b[0m: No module named 'keras'"
          ],
          "output_type": "error"
        }
      ],
      "execution_count": 5
    },
    {
      "id": "a68d67d2-26cf-4527-841a-c7428fa85b88",
      "cell_type": "code",
      "source": "# Load the dataset\ndata = pd.read_csv('time_series_data.csv')\n",
      "metadata": {
        "trusted": true
      },
      "outputs": [],
      "execution_count": null
    },
    {
      "id": "28cb3377-e541-4ebb-a1ae-6856266b7595",
      "cell_type": "code",
      "source": "# Convert the 'Date' column to datetime\ndata['Date'] = pd.to_datetime(data['Date'])\n\n# Sort the dataframe by date\ndata = data.sort_values('Date')\n\n# Normalize the data\nscaler = MinMaxScaler(feature_range=(0, 1))\nscaled_data = scaler.fit_transform(data['Value'].values.reshape(-1,1))\n",
      "metadata": {
        "trusted": true
      },
      "outputs": [],
      "execution_count": null
    },
    {
      "id": "ccdaad9d-b456-4c83-8fac-4a6e1b5fd5c2",
      "cell_type": "code",
      "source": "# Split the data into training and testing sets\ntrain_size = int(len(scaled_data) * 0.8)\ntest_size = len(scaled_data) - train_size\ntrain, test = scaled_data[0:train_size,:], scaled_data[train_size:len(scaled_data),:]\n",
      "metadata": {
        "trusted": true
      },
      "outputs": [],
      "execution_count": null
    },
    {
      "id": "08d88dd9-9267-4aa8-b7b5-138c1303085b",
      "cell_type": "code",
      "source": "def create_sequences(data, seq_length):\n    X, y = [], []\n    for i in range(len(data) - seq_length):\n        X.append(data[i:(i + seq_length), 0])\n        y.append(data[i + seq_length, 0])\n    return np.array(X), np.array(y)\n\n# Choose sequence length\nseq_length = 10\n\n# Create sequences for training and testing\nX_train, y_train = create_sequences(train, seq_length)\nX_test, y_test = create_sequences(test, seq_length)\n\n# Reshape input to be [samples, time steps, features]\nX_train = np.reshape(X_train, (X_train.shape[0], X_train.shape[1], 1))\nX_test = np.reshape(X_test, (X_test.shape[0], X_test.shape[1], 1))\n",
      "metadata": {
        "trusted": true
      },
      "outputs": [],
      "execution_count": null
    },
    {
      "id": "a5acfa72-b6b0-4bc8-aebb-8467e089156c",
      "cell_type": "code",
      "source": "# Define the LSTM model\nmodel = Sequential()\nmodel.add(LSTM(units=50, return_sequences=True, input_shape=(X_train.shape[1], 1)))\nmodel.add(LSTM(units=50))\nmodel.add(Dense(units=1))\n\n# Compile the model\nmodel.compile(optimizer='adam', loss='mean_squared_error')\n\n# Print model summary\nprint(model.summary())\n",
      "metadata": {
        "trusted": true
      },
      "outputs": [],
      "execution_count": null
    },
    {
      "id": "e941e921-05e0-484c-a46c-7da54fc76a8c",
      "cell_type": "code",
      "source": "# Fit the model\nmodel.fit(X_train, y_train, epochs=100, batch_size=32)\n",
      "metadata": {
        "trusted": true
      },
      "outputs": [],
      "execution_count": null
    },
    {
      "id": "3b87d100-20aa-412a-9224-f6287617b6d8",
      "cell_type": "code",
      "source": "# Make predictions\npredictions = model.predict(X_test)\n\n# Inverse transform predictions and actual values\npredictions = scaler.inverse_transform(predictions)\ny_test = scaler.inverse_transform([y_test])\n",
      "metadata": {
        "trusted": true
      },
      "outputs": [],
      "execution_count": null
    },
    {
      "id": "eb923df5-849c-4adc-89ea-6a4fe1d08e78",
      "cell_type": "code",
      "source": "# Evaluate the model\nmae = mean_absolute_error(y_test[0], predictions[:,0])\nrmse = np.sqrt(mean_squared_error(y_test[0], predictions[:,0]))\nprint('Mean Absolute Error:', mae)\nprint('Root Mean Squared Error:', rmse)\n",
      "metadata": {
        "trusted": true
      },
      "outputs": [],
      "execution_count": null
    },
    {
      "id": "8521d6b2-e416-4d77-b7c1-4f88bf675808",
      "cell_type": "code",
      "source": "# Plot actual vs. predicted\nplt.plot(y_test[0], label='Actual')\nplt.plot(predictions[:,0], label='Predicted')\nplt.legend()\nplt.show()\n",
      "metadata": {
        "trusted": true
      },
      "outputs": [
        {
          "ename": "<class 'NameError'>",
          "evalue": "name 'plt' is not defined",
          "traceback": [
            "\u001b[0;31m---------------------------------------------------------------------------\u001b[0m",
            "\u001b[0;31mNameError\u001b[0m                                 Traceback (most recent call last)",
            "Cell \u001b[0;32mIn[4], line 2\u001b[0m\n\u001b[1;32m      1\u001b[0m \u001b[38;5;66;03m# Plot actual vs. predicted\u001b[39;00m\n\u001b[0;32m----> 2\u001b[0m \u001b[43mplt\u001b[49m\u001b[38;5;241m.\u001b[39mplot(y_test[\u001b[38;5;241m0\u001b[39m], label\u001b[38;5;241m=\u001b[39m\u001b[38;5;124m'\u001b[39m\u001b[38;5;124mActual\u001b[39m\u001b[38;5;124m'\u001b[39m)\n\u001b[1;32m      3\u001b[0m plt\u001b[38;5;241m.\u001b[39mplot(predictions[:,\u001b[38;5;241m0\u001b[39m], label\u001b[38;5;241m=\u001b[39m\u001b[38;5;124m'\u001b[39m\u001b[38;5;124mPredicted\u001b[39m\u001b[38;5;124m'\u001b[39m)\n\u001b[1;32m      4\u001b[0m plt\u001b[38;5;241m.\u001b[39mlegend()\n",
            "\u001b[0;31mNameError\u001b[0m: name 'plt' is not defined"
          ],
          "output_type": "error"
        }
      ],
      "execution_count": 4
    },
    {
      "id": "facc21ed-0d22-4d2c-8318-44b5f67ed458",
      "cell_type": "code",
      "source": "",
      "metadata": {
        "trusted": true
      },
      "outputs": [],
      "execution_count": null
    }
  ]
}